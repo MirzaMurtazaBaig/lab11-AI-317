{
 "cells": [
  {
   "cell_type": "code",
   "execution_count": 3,
   "id": "047ed130-aa05-4e4b-9ac0-cc0308bcab17",
   "metadata": {},
   "outputs": [
    {
     "name": "stdin",
     "output_type": "stream",
     "text": [
      "Enter the initial state (start node):  A\n",
      "Enter the final state (goal node):  G\n"
     ]
    },
    {
     "name": "stdout",
     "output_type": "stream",
     "text": [
      "BFS Execution:\n",
      "Start Node: A, Goal Node: G\n",
      "\n",
      "Open List: ['A']\n",
      "Closed List: []\n",
      "\n",
      "Open List: ['B', 'C', 'E']\n",
      "Closed List: ['A']\n",
      "\n",
      "Open List: ['C', 'E', 'D']\n",
      "Closed List: ['A', 'B']\n",
      "\n",
      "Open List: ['E', 'D', 'F']\n",
      "Closed List: ['A', 'B', 'C']\n",
      "\n",
      "Open List: ['D', 'F', 'G']\n",
      "Closed List: ['A', 'B', 'C', 'E']\n",
      "\n",
      "Open List: ['F', 'G']\n",
      "Closed List: ['A', 'B', 'C', 'E', 'D']\n",
      "\n",
      "Open List: ['G']\n",
      "Closed List: ['A', 'B', 'C', 'E', 'D', 'F']\n",
      "\n",
      "Goal reached!\n",
      "\n",
      "Final Closed List (Path Explored): ['A', 'B', 'C', 'E', 'D', 'F', 'G']\n"
     ]
    },
    {
     "data": {
      "text/plain": [
       "['A', 'B', 'C', 'E', 'D', 'F', 'G']"
      ]
     },
     "execution_count": 3,
     "metadata": {},
     "output_type": "execute_result"
    }
   ],
   "source": [
    "from collections import deque\n",
    "\n",
    "def bfs(graph, start, goal):\n",
    "    # Initialize open and closed lists\n",
    "    open_list = deque([start])\n",
    "    closed_list = []\n",
    "\n",
    "    print(\"BFS Execution:\")\n",
    "    print(f\"Start Node: {start}, Goal Node: {goal}\\n\")\n",
    "\n",
    "    # BFS loop\n",
    "    while open_list:\n",
    "        # Display the current state of the lists\n",
    "        print(f\"Open List: {list(open_list)}\")\n",
    "        print(f\"Closed List: {closed_list}\\n\")\n",
    "        \n",
    "        # Pop the first element from the open list\n",
    "        current_node = open_list.popleft()\n",
    "        closed_list.append(current_node)\n",
    "\n",
    "        # Check if the goal is reached\n",
    "        if current_node == goal:\n",
    "            print(\"Goal reached!\\n\")\n",
    "            print(f\"Final Closed List (Path Explored): {closed_list}\")\n",
    "            return closed_list\n",
    "\n",
    "        # Explore neighbors\n",
    "        for neighbor in graph[current_node]:\n",
    "            if neighbor not in open_list and neighbor not in closed_list:\n",
    "                open_list.append(neighbor)\n",
    "\n",
    "    print(\"Goal not found!\")\n",
    "    return closed_list\n",
    "\n",
    "# Define the graph as an adjacency list\n",
    "graph = {\n",
    "    'A': ['B', 'C', 'E'],\n",
    "    'B': ['A', 'D', 'E'],\n",
    "    'C': ['A', 'E', 'F'],\n",
    "    'D': ['B'],\n",
    "    'E': ['A', 'B', 'C', 'F', 'G'],\n",
    "    'F': ['C', 'E'],\n",
    "    'G': ['E']\n",
    "}\n",
    "\n",
    "# Get user input for start and goal nodes\n",
    "start_node = input(\"Enter the initial state (start node): \").strip().upper()\n",
    "goal_node = input(\"Enter the final state (goal node): \").strip().upper()\n",
    "\n",
    "# Perform BFS\n",
    "bfs(graph, start_node, goal_node)\n",
    "\n"
   ]
  },
  {
   "cell_type": "code",
   "execution_count": null,
   "id": "622bb525-b724-4025-b2d8-db292c2b01ac",
   "metadata": {},
   "outputs": [],
   "source": []
  }
 ],
 "metadata": {
  "kernelspec": {
   "display_name": "Python 3 (ipykernel)",
   "language": "python",
   "name": "python3"
  },
  "language_info": {
   "codemirror_mode": {
    "name": "ipython",
    "version": 3
   },
   "file_extension": ".py",
   "mimetype": "text/x-python",
   "name": "python",
   "nbconvert_exporter": "python",
   "pygments_lexer": "ipython3",
   "version": "3.12.7"
  }
 },
 "nbformat": 4,
 "nbformat_minor": 5
}
