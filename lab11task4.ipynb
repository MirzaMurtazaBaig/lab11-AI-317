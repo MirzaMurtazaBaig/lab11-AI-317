{
 "cells": [
  {
   "cell_type": "code",
   "execution_count": 2,
   "id": "18472a0b-b341-4071-a990-933aae4b4f0d",
   "metadata": {},
   "outputs": [
    {
     "name": "stdin",
     "output_type": "stream",
     "text": [
      "Enter the initial state (start node):  B\n",
      "Enter the final state (goal node):  F\n"
     ]
    },
    {
     "name": "stdout",
     "output_type": "stream",
     "text": [
      "\n",
      "DFS Execution:\n",
      "Initial State: B, Goal State: F\n",
      "\n",
      "Open list: ['B']\n",
      "Closed list: []\n",
      "\n",
      "Open list: ['E', 'D', 'A']\n",
      "Closed list: ['B']\n",
      "\n",
      "Open list: ['E', 'D', 'C']\n",
      "Closed list: ['B', 'A']\n",
      "\n",
      "Open list: ['E', 'D', 'F']\n",
      "Closed list: ['B', 'A', 'C']\n",
      "\n",
      "Goal 'F' reached!\n",
      "\n",
      "Closed list (path explored): ['B', 'A', 'C', 'F']\n"
     ]
    }
   ],
   "source": [
    "def dfs(graph, start, goal):\n",
    "    # Initialize open and closed lists\n",
    "    open_list = [start]\n",
    "    closed_list = []\n",
    "\n",
    "    print(\"\\nDFS Execution:\")\n",
    "    print(f\"Initial State: {start}, Goal State: {goal}\")\n",
    "\n",
    "    # DFS loop\n",
    "    while open_list:\n",
    "        print(f\"\\nOpen list: {open_list}\")\n",
    "        print(f\"Closed list: {closed_list}\")\n",
    "\n",
    "        # Pop the last element (stack behavior)\n",
    "        current_node = open_list.pop()\n",
    "        closed_list.append(current_node)\n",
    "\n",
    "        # Check if the goal is reached\n",
    "        if current_node == goal:\n",
    "            print(f\"\\nGoal '{goal}' reached!\")\n",
    "            return closed_list\n",
    "\n",
    "        # Explore neighbors in reverse order for proper stack behavior\n",
    "        for neighbor in reversed(graph[current_node]):\n",
    "            if neighbor not in open_list and neighbor not in closed_list:\n",
    "                open_list.append(neighbor)\n",
    "\n",
    "    print(\"\\nGoal not reachable.\")\n",
    "    return closed_list\n",
    "\n",
    "# Define the graph as an adjacency list\n",
    "graph = {\n",
    "    'A': ['B', 'C', 'E'],\n",
    "    'B': ['A', 'D', 'E'],\n",
    "    'C': ['A', 'E', 'F'],\n",
    "    'D': ['B'],\n",
    "    'E': ['A', 'B', 'C', 'F', 'G'],\n",
    "    'F': ['C', 'E'],\n",
    "    'G': ['E']\n",
    "}\n",
    "\n",
    "# Get user input for start and goal nodes\n",
    "start_node = input(\"Enter the initial state (start node): \").strip().upper()\n",
    "goal_node = input(\"Enter the final state (goal node): \").strip().upper()\n",
    "\n",
    "# Perform DFS\n",
    "path = dfs(graph, start_node, goal_node)\n",
    "\n",
    "# Print the final result\n",
    "print(\"\\nClosed list (path explored):\", path)\n"
   ]
  },
  {
   "cell_type": "code",
   "execution_count": null,
   "id": "73abcfbd-e922-45f8-a4be-565d1132f9d5",
   "metadata": {},
   "outputs": [],
   "source": []
  }
 ],
 "metadata": {
  "kernelspec": {
   "display_name": "Python 3 (ipykernel)",
   "language": "python",
   "name": "python3"
  },
  "language_info": {
   "codemirror_mode": {
    "name": "ipython",
    "version": 3
   },
   "file_extension": ".py",
   "mimetype": "text/x-python",
   "name": "python",
   "nbconvert_exporter": "python",
   "pygments_lexer": "ipython3",
   "version": "3.12.7"
  }
 },
 "nbformat": 4,
 "nbformat_minor": 5
}
