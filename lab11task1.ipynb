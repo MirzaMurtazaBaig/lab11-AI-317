{
 "cells": [
  {
   "cell_type": "code",
   "execution_count": 3,
   "id": "1ffd7065-52f9-48b1-8664-ede2918f483e",
   "metadata": {},
   "outputs": [
    {
     "name": "stdout",
     "output_type": "stream",
     "text": [
      "Goal reached!\n",
      "Closed list (path explored): ['A', 'B', 'C', 'E', 'D', 'F', 'G']\n"
     ]
    }
   ],
   "source": [
    "from collections import deque\n",
    "\n",
    "def bfs(graph, start, goal):\n",
    "    # Initialize open and closed lists\n",
    "    open_list = deque([start])\n",
    "    closed_list = []\n",
    "\n",
    "    # BFS loop\n",
    "    while open_list:\n",
    "        # Pop the first element from the open list\n",
    "        current_node = open_list.popleft()\n",
    "        closed_list.append(current_node)\n",
    "\n",
    "        # Check if the goal is reached\n",
    "        if current_node == goal:\n",
    "            print(\"Goal reached!\")\n",
    "            return closed_list\n",
    "\n",
    "        # Explore neighbors\n",
    "        for neighbor in graph[current_node]:\n",
    "            if neighbor not in open_list and neighbor not in closed_list:\n",
    "                open_list.append(neighbor)\n",
    "\n",
    "    return closed_list\n",
    "\n",
    "# Define the graph as an adjacency list\n",
    "graph = {\n",
    "    'A': ['B', 'C', 'E'],\n",
    "    'B': ['A', 'D', 'E'],\n",
    "    'C': ['A', 'E', 'F'],\n",
    "    'D': ['B'],\n",
    "    'E': ['A', 'B', 'C', 'F', 'G'],\n",
    "    'F': ['C', 'E'],\n",
    "    'G': ['E']\n",
    "}\n",
    "\n",
    "# Perform BFS\n",
    "start_node = 'A'\n",
    "goal_node = 'G'\n",
    "path = bfs(graph, start_node, goal_node)\n",
    "\n",
    "# Print the result\n",
    "print(\"Closed list (path explored):\", path)\n"
   ]
  },
  {
   "cell_type": "code",
   "execution_count": null,
   "id": "4b4b3511-64d6-4360-ae74-04db8c2b9059",
   "metadata": {},
   "outputs": [],
   "source": []
  }
 ],
 "metadata": {
  "kernelspec": {
   "display_name": "Python 3 (ipykernel)",
   "language": "python",
   "name": "python3"
  },
  "language_info": {
   "codemirror_mode": {
    "name": "ipython",
    "version": 3
   },
   "file_extension": ".py",
   "mimetype": "text/x-python",
   "name": "python",
   "nbconvert_exporter": "python",
   "pygments_lexer": "ipython3",
   "version": "3.12.7"
  }
 },
 "nbformat": 4,
 "nbformat_minor": 5
}
